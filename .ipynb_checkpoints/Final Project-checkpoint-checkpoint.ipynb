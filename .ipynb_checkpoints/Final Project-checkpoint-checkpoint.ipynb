{
 "cells": [
  {
   "cell_type": "code",
   "execution_count": null,
   "id": "signal-origin",
   "metadata": {},
   "outputs": [],
   "source": [
    "try:\n",
    "    dbConnection = psycopg2.connect(\n",
    "        user = \"dap\",\n",
    "        password = \"dap\",\n",
    "        host = \"192.168.56.30\",\n",
    "        port = \"5432\",\n",
    "        database = \"postgres\")\n",
    "    dbConnection.set_isolation_level(0) # AUTOCOMMIT\n",
    "    dbCursor = dbConnection.cursor()\n",
    "    dbCursor.execute('CREATE DATABASE guns;')\n",
    "    dbCursor.close()\n",
    "except (Exception, psycopg2.Error) as dbError :\n",
    "    print (\"Error while connecting to PostgreSQL\", dbError)\n",
    "finally:\n",
    "    if(dbConnection): dbConnection.close()"
   ]
  },
  {
   "cell_type": "code",
   "execution_count": null,
   "id": "radical-record",
   "metadata": {},
   "outputs": [],
   "source": [
    "createString = \"\"\"\n",
    "CREATE TABLE guns(Unnamed     integer,\n",
    "year            integer,\n",
    "month           integer,\n",
    "intent         text,\n",
    "police          integer,\n",
    "sex            text,\n",
    "age             integer,\n",
    "race           text,\n",
    "hispanic        integer,\n",
    "place          text,\n",
    "education     integer);\n",
    "\"\"\"\n",
    "\n",
    "try:\n",
    "    dbConnection = psycopg2.connect(\n",
    "        user = \"dap\",\n",
    "        password = \"dap\",\n",
    "        host = \"192.168.56.30\",\n",
    "        port = \"5432\",\n",
    "        database = \"guns\")\n",
    "    dbConnection.set_isolation_level(0) # AUTOCOMMIT\n",
    "    dbCursor = dbConnection.cursor()\n",
    "    dbCursor.execute(createString)\n",
    "    dbCursor.close()\n",
    "except (Exception, psycopg2.Error) as dbError :\n",
    "    print (\"Error while connecting to PostgreSQL\", dbError)\n",
    "finally:\n",
    "    if(dbConnection): dbConnection.close()"
   ]
  },
  {
   "cell_type": "code",
   "execution_count": null,
   "id": "comparable-compiler",
   "metadata": {},
   "outputs": [],
   "source": [
    "try:\n",
    "    dbConnection = psycopg2.connect(\n",
    "        user = \"dap\",\n",
    "        password = \"dap\",\n",
    "        host = \"192.168.56.30\",\n",
    "        port = \"5432\",\n",
    "        database = \"guns\")\n",
    "    dbConnection.set_isolation_level(0) # AUTOCOMMIT\n",
    "    dbCursor = dbConnection.cursor()\n",
    "    insertString = \"INSERT INTO guns VALUES ('{}',\"+\"{},\"*11+\"{})\"\n",
    "    with open('C:/Users/felip/OneDrive/Documents/Master en Data Analisis/Project Data/Gun Deaths in the US_ 2012-2014 _ Kaggle_files/guns.csv', 'r') as f:\n",
    "        reader = csv.reader(f)\n",
    "        next(reader) # skip the header \n",
    "        for row in reader:\n",
    "            dbCursor.execute(insertString.format(*row))\n",
    "    \n",
    "    dbCursor.commit()\n",
    "    dbCursor.close()\n",
    "except (Exception, psycopg2.Error) as dbError :\n",
    "    print (\"Error:\", dbError)\n",
    "finally:\n",
    "    if(dbConnection): dbConnection.close()"
   ]
  },
  {
   "cell_type": "code",
   "execution_count": null,
   "id": "objective-bearing",
   "metadata": {},
   "outputs": [],
   "source": [
    "sql = \"\"\n",
    "\n",
    "\n",
    "FROM \n",
    "  guns \n",
    "GROUP BY \n",
    "  month\n",
    "HAVING\n",
    "     month >= 1\"\"\n",
    "\n",
    "try:\n",
    "    dbConnection = psycopg2.connect(\n",
    "        user = \"dap\",\n",
    "        password = \"dap\",\n",
    "        host = \"192.168.56.30\",\n",
    "        port = \"5432\",\n",
    "        database = \"guns\")\n",
    "    guns_dataframe = sqlio.read_sql_query(sql, dbConnection)\n",
    "except (Exception, psycopg2.Error) as dbError :\n",
    "    print (\"Error:\", dbError)\n",
    "finally:\n",
    "    if(dbConnection): dbConnection.close()"
   ]
  },
  {
   "cell_type": "code",
   "execution_count": null,
   "id": "large-norman",
   "metadata": {},
   "outputs": [],
   "source": [
    "guns_dataframe"
   ]
  },
  {
   "cell_type": "code",
   "execution_count": null,
   "id": "resident-delhi",
   "metadata": {},
   "outputs": [],
   "source": [
    "#import psycopg2\n",
    "import pandas as pd\n",
    "import random # random number generatio\n",
    "import seaborn as sns  # for statistic plots\n",
    "import matplotlib.pyplot as plt # plotting figures\n",
    "from scipy import stats  # for the chi square test\n",
    "from sklearn.impute import SimpleImputer # impute using mean, median or mode\n",
    "from sklearn.impute import KNNImputer # impute missing data using KNN\n",
    "import numpy as np\n",
    "import pandas.io.sql as sqlio\n",
    "import csv"
   ]
  },
  {
   "cell_type": "code",
   "execution_count": null,
   "id": "homeless-phone",
   "metadata": {},
   "outputs": [],
   "source": [
    "guns = pd.read_csv('C:/Users/felip/OneDrive/Documents/Master en Data Analisis/Project Data/Gun Deaths in the US_ 2012-2014 _ Kaggle_files/guns.csv', index_col=0)"
   ]
  },
  {
   "cell_type": "code",
   "execution_count": null,
   "id": "american-census",
   "metadata": {},
   "outputs": [],
   "source": [
    "guns.shape"
   ]
  },
  {
   "cell_type": "code",
   "execution_count": null,
   "id": "engaging-polish",
   "metadata": {},
   "outputs": [],
   "source": [
    "guns.head()"
   ]
  },
  {
   "cell_type": "code",
   "execution_count": null,
   "id": "wound-impression",
   "metadata": {},
   "outputs": [],
   "source": [
    "guns.tail()"
   ]
  },
  {
   "cell_type": "code",
   "execution_count": null,
   "id": "balanced-christian",
   "metadata": {},
   "outputs": [],
   "source": [
    "guns.describe().transpose()"
   ]
  },
  {
   "cell_type": "code",
   "execution_count": null,
   "id": "intimate-dealer",
   "metadata": {},
   "outputs": [],
   "source": [
    "guns.isna().sum()"
   ]
  },
  {
   "cell_type": "code",
   "execution_count": null,
   "id": "expired-cornwall",
   "metadata": {},
   "outputs": [],
   "source": [
    "colourmap = sns.cubehelix_palette(light=1, as_cmap=True, reverse=True)\n",
    "_ = sns.heatmap(guns.isnull(), cmap=colourmap)"
   ]
  },
  {
   "cell_type": "code",
   "execution_count": null,
   "id": "induced-second",
   "metadata": {},
   "outputs": [],
   "source": [
    "guns.dtypes"
   ]
  },
  {
   "cell_type": "code",
   "execution_count": null,
   "id": "confirmed-adjustment",
   "metadata": {},
   "outputs": [],
   "source": [
    "guns['place'].head(3)"
   ]
  },
  {
   "cell_type": "code",
   "execution_count": null,
   "id": "numeric-wright",
   "metadata": {},
   "outputs": [],
   "source": [
    "guns['place'].fillna('Other specified', inplace=True)"
   ]
  },
  {
   "cell_type": "code",
   "execution_count": null,
   "id": "found-restriction",
   "metadata": {},
   "outputs": [],
   "source": [
    "guns['age'].fillna((guns['age'].mean()), inplace=True)"
   ]
  },
  {
   "cell_type": "code",
   "execution_count": null,
   "id": "macro-distributor",
   "metadata": {},
   "outputs": [],
   "source": [
    "guns['intent'].value_counts().head()"
   ]
  },
  {
   "cell_type": "code",
   "execution_count": null,
   "id": "infrared-commitment",
   "metadata": {},
   "outputs": [],
   "source": [
    "guns['intent'].fillna('Undetermined', inplace=True)"
   ]
  },
  {
   "cell_type": "code",
   "execution_count": null,
   "id": "lonely-driving",
   "metadata": {},
   "outputs": [],
   "source": [
    "guns['education'].value_counts().head()\n",
    "#1: Less than High School\n",
    "#2: Graduated from High School or equivalent\n",
    "#3: Some College\n",
    "#4: At least graduated from College\n",
    "#5: Not available"
   ]
  },
  {
   "cell_type": "code",
   "execution_count": null,
   "id": "expressed-accuracy",
   "metadata": {},
   "outputs": [],
   "source": [
    "guns['education'].fillna('Not available', inplace=True)"
   ]
  },
  {
   "cell_type": "code",
   "execution_count": null,
   "id": "grave-windows",
   "metadata": {},
   "outputs": [],
   "source": [
    "guns['education'].value_counts().head()"
   ]
  },
  {
   "cell_type": "code",
   "execution_count": null,
   "id": "complete-corruption",
   "metadata": {},
   "outputs": [],
   "source": [
    "guns.isna().sum()"
   ]
  },
  {
   "cell_type": "code",
   "execution_count": null,
   "id": "pressing-professional",
   "metadata": {},
   "outputs": [],
   "source": [
    "colourmap = sns.cubehelix_palette(light=1, as_cmap=True, reverse=True)\n",
    "_ = sns.heatmap(guns.isnull(), cmap=colourmap)"
   ]
  },
  {
   "cell_type": "code",
   "execution_count": null,
   "id": "later-market",
   "metadata": {},
   "outputs": [],
   "source": [
    "guns['age'].value_counts().head(25)"
   ]
  },
  {
   "cell_type": "code",
   "execution_count": null,
   "id": "packed-announcement",
   "metadata": {},
   "outputs": [],
   "source": [
    "guns['sex'].value_counts().head(25)"
   ]
  },
  {
   "cell_type": "code",
   "execution_count": null,
   "id": "cardiovascular-evolution",
   "metadata": {},
   "outputs": [],
   "source": [
    "Yearintent = guns.groupby([guns.year, guns.intent]).year.count().unstack('intent')\n",
    "plot = Yearintent.plot(kind=\"bar\", stacked=True)\n",
    "plot.set_xlabel(\"year\")\n",
    "plot.set_ylabel(\"Count\")\n",
    "plt.show()"
   ]
  },
  {
   "cell_type": "code",
   "execution_count": null,
   "id": "oriented-trigger",
   "metadata": {},
   "outputs": [],
   "source": [
    "sns.barplot(x='age', y='intent', hue='year', data=guns);\n"
   ]
  },
  {
   "cell_type": "code",
   "execution_count": null,
   "id": "friendly-blind",
   "metadata": {},
   "outputs": [],
   "source": [
    "guns['race'].value_counts().plot(kind = \"bar\", title = \"Race: victim's race\");"
   ]
  },
  {
   "cell_type": "code",
   "execution_count": null,
   "id": "heavy-potential",
   "metadata": {},
   "outputs": [],
   "source": [
    "intentAndRace = guns.groupby([guns.intent, guns.race]).intent.count().unstack('race')\n",
    "plot = intentAndRace.plot(kind=\"bar\", stacked=True)\n",
    "plot.set_xlabel(\"Intent\")\n",
    "plot.set_ylabel(\"Count\")\n",
    "plt.show()"
   ]
  },
  {
   "cell_type": "code",
   "execution_count": null,
   "id": "blank-inspiration",
   "metadata": {},
   "outputs": [],
   "source": [
    "intentAndplace = guns.groupby([guns.intent, guns.place]).intent.count().unstack('place')\n",
    "plot = intentAndplace.plot(kind=\"bar\", stacked=True)\n",
    "plot.set_xlabel(\"Intent\")\n",
    "plot.set_ylabel(\"Count\")\n",
    "plt.show()"
   ]
  }
 ],
 "metadata": {
  "kernelspec": {
   "display_name": "Python 3",
   "language": "python",
   "name": "python3"
  },
  "language_info": {
   "codemirror_mode": {
    "name": "ipython",
    "version": 3
   },
   "file_extension": ".py",
   "mimetype": "text/x-python",
   "name": "python",
   "nbconvert_exporter": "python",
   "pygments_lexer": "ipython3",
   "version": "3.8.5"
  }
 },
 "nbformat": 4,
 "nbformat_minor": 5
}
