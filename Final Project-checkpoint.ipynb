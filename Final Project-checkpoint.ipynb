{
 "cells": [
  {
   "cell_type": "code",
   "execution_count": 1,
   "id": "resident-delhi",
   "metadata": {},
   "outputs": [],
   "source": [
    "import psycopg2\n",
    "import pandas as pd\n",
    "import random # random number generatio\n",
    "import seaborn as sns  # for statistic plots\n",
    "import matplotlib.pyplot as plt # plotting figures\n",
    "from scipy import stats  # for the chi square test\n",
    "from sklearn.impute import SimpleImputer # impute using mean, median or mode\n",
    "from sklearn.impute import KNNImputer # impute missing data using KNN\n",
    "import numpy as np"
   ]
  },
  {
   "cell_type": "code",
   "execution_count": 2,
   "id": "dental-hawaii",
   "metadata": {},
   "outputs": [
    {
     "name": "stdout",
     "output_type": "stream",
     "text": [
      "Requirement already satisfied: scikit-learn in c:\\programdata\\anaconda3\\lib\\site-packages (0.24.1)\n",
      "Collecting scikit-learn\n",
      "  Downloading scikit_learn-0.24.2-cp37-cp37m-win_amd64.whl (6.8 MB)\n",
      "Requirement already satisfied: threadpoolctl>=2.0.0 in c:\\programdata\\anaconda3\\lib\\site-packages (from scikit-learn) (2.1.0)\n",
      "Requirement already satisfied: scipy>=0.19.1 in c:\\programdata\\anaconda3\\lib\\site-packages (from scikit-learn) (1.6.2)\n",
      "Requirement already satisfied: joblib>=0.11 in c:\\programdata\\anaconda3\\lib\\site-packages (from scikit-learn) (1.0.1)\n",
      "Requirement already satisfied: numpy>=1.13.3 in c:\\programdata\\anaconda3\\lib\\site-packages (from scikit-learn) (1.19.2)\n",
      "Installing collected packages: scikit-learn\n",
      "  Attempting uninstall: scikit-learn\n",
      "    Found existing installation: scikit-learn 0.24.1\n",
      "    Uninstalling scikit-learn-0.24.1:\n",
      "Note: you may need to restart the kernel to use updated packages.\n"
     ]
    },
    {
     "name": "stderr",
     "output_type": "stream",
     "text": [
      "ERROR: Could not install packages due to an OSError: [WinError 5] Access is denied: 'c:\\\\programdata\\\\anaconda3\\\\lib\\\\site-packages\\\\scikit_learn-0.24.1.dist-info\\\\COPYING'\n",
      "Consider using the `--user` option or check the permissions.\n",
      "\n"
     ]
    }
   ],
   "source": [
    "pip install -U scikit-learn"
   ]
  },
  {
   "cell_type": "code",
   "execution_count": 3,
   "id": "signal-origin",
   "metadata": {},
   "outputs": [
    {
     "name": "stdout",
     "output_type": "stream",
     "text": [
      "Error while connecting to PostgreSQL database \"guns\" already exists\n",
      "\n"
     ]
    }
   ],
   "source": [
    "try:\n",
    "    dbConnection = psycopg2.connect(\n",
    "        user = \"dap\",\n",
    "        password = \"dap\",\n",
    "        host = \"192.168.56.30\",\n",
    "        port = \"5432\",\n",
    "        database = \"postgres\")\n",
    "    dbConnection.set_isolation_level(0) # AUTOCOMMIT\n",
    "    dbCursor = dbConnection.cursor()\n",
    "    dbCursor.execute('CREATE DATABASE guns;')\n",
    "    dbCursor.close()\n",
    "except (Exception, psycopg2.Error) as dbError :\n",
    "    print (\"Error while connecting to PostgreSQL\", dbError)\n",
    "finally:\n",
    "    if(dbConnection): dbConnection.close()"
   ]
  },
  {
   "cell_type": "code",
   "execution_count": 4,
   "id": "radical-record",
   "metadata": {},
   "outputs": [
    {
     "name": "stdout",
     "output_type": "stream",
     "text": [
      "Error while connecting to PostgreSQL relation \"guns\" already exists\n",
      "\n"
     ]
    }
   ],
   "source": [
    "createString = \"\"\"\n",
    "CREATE TABLE guns(Unnamed     integer,\n",
    "year            integer,\n",
    "month           integer,\n",
    "intent         text,\n",
    "police          integer,\n",
    "sex            text,\n",
    "age             integer,\n",
    "race           text,\n",
    "hispanic        integer,\n",
    "place          text,\n",
    "education     integer);\n",
    "\"\"\"\n",
    "\n",
    "try:\n",
    "    dbConnection = psycopg2.connect(\n",
    "        user = \"dap\",\n",
    "        password = \"dap\",\n",
    "        host = \"192.168.56.30\",\n",
    "        port = \"5432\",\n",
    "        database = \"guns\")\n",
    "    dbConnection.set_isolation_level(0) # AUTOCOMMIT\n",
    "    dbCursor = dbConnection.cursor()\n",
    "    dbCursor.execute(createString)\n",
    "    dbCursor.close()\n",
    "except (Exception, psycopg2.Error) as dbError :\n",
    "    print (\"Error while connecting to PostgreSQL\", dbError)\n",
    "finally:\n",
    "    if(dbConnection): dbConnection.close()"
   ]
  },
  {
   "cell_type": "code",
   "execution_count": 5,
   "id": "comparable-compiler",
   "metadata": {},
   "outputs": [
    {
     "name": "stdout",
     "output_type": "stream",
     "text": [
      "Error: tuple index out of range\n"
     ]
    }
   ],
   "source": [
    "import csv\n",
    "try:\n",
    "    dbConnection = psycopg2.connect(\n",
    "        user = \"dap\",\n",
    "        password = \"dap\",\n",
    "        host = \"192.168.56.30\",\n",
    "        port = \"5432\",\n",
    "        database = \"guns\")\n",
    "    dbConnection.set_isolation_level(0) # AUTOCOMMIT\n",
    "    dbCursor = dbConnection.cursor()\n",
    "    insertString = \"INSERT INTO guns VALUES ('{}',\"+\"{},\"*11+\"{})\"\n",
    "    with open('C:/Users/felip/OneDrive/Documents/Master en Data Analisis/Project Data/Gun Deaths in the US_ 2012-2014 _ Kaggle_files/guns.csv', 'r') as f:\n",
    "        reader = csv.reader(f)\n",
    "        next(reader) # skip the header \n",
    "        for row in reader:\n",
    "            dbCursor.execute(insertString.format(*row))\n",
    "    \n",
    "    dbCursor.commit()\n",
    "    dbCursor.close()\n",
    "except (Exception, psycopg2.Error) as dbError :\n",
    "    print (\"Error:\", dbError)\n",
    "finally:\n",
    "    if(dbConnection): dbConnection.close()"
   ]
  },
  {
   "cell_type": "code",
   "execution_count": 7,
   "id": "objective-bearing",
   "metadata": {},
   "outputs": [
    {
     "ename": "IndentationError",
     "evalue": "unexpected indent (<ipython-input-7-b462139d266e>, line 9)",
     "output_type": "error",
     "traceback": [
      "\u001b[1;36m  File \u001b[1;32m\"<ipython-input-7-b462139d266e>\"\u001b[1;36m, line \u001b[1;32m9\u001b[0m\n\u001b[1;33m    guns\u001b[0m\n\u001b[1;37m    ^\u001b[0m\n\u001b[1;31mIndentationError\u001b[0m\u001b[1;31m:\u001b[0m unexpected indent\n"
     ]
    }
   ],
   "source": [
    "import pandas as pd\n",
    "import pandas.io.sql as sqlio\n",
    "import psycopg2\n",
    "\n",
    "sql = \"\"\n",
    "\n",
    "\n",
    "FROM \n",
    "  guns \n",
    "GROUP BY \n",
    "  month\n",
    "HAVING\n",
    "     month >= 1\"\"\n",
    "\n",
    "try:\n",
    "    dbConnection = psycopg2.connect(\n",
    "        user = \"dap\",\n",
    "        password = \"dap\",\n",
    "        host = \"192.168.56.30\",\n",
    "        port = \"5432\",\n",
    "        database = \"guns\")\n",
    "    guns_dataframe = sqlio.read_sql_query(sql, dbConnection)\n",
    "except (Exception, psycopg2.Error) as dbError :\n",
    "    print (\"Error:\", dbError)\n",
    "finally:\n",
    "    if(dbConnection): dbConnection.close()"
   ]
  },
  {
   "cell_type": "code",
   "execution_count": 8,
   "id": "large-norman",
   "metadata": {},
   "outputs": [
    {
     "ename": "NameError",
     "evalue": "name 'guns_dataframe' is not defined",
     "output_type": "error",
     "traceback": [
      "\u001b[1;31m---------------------------------------------------------------------------\u001b[0m",
      "\u001b[1;31mNameError\u001b[0m                                 Traceback (most recent call last)",
      "\u001b[1;32m<ipython-input-8-a2caad55d578>\u001b[0m in \u001b[0;36m<module>\u001b[1;34m\u001b[0m\n\u001b[1;32m----> 1\u001b[1;33m \u001b[0mguns_dataframe\u001b[0m\u001b[1;33m\u001b[0m\u001b[1;33m\u001b[0m\u001b[0m\n\u001b[0m",
      "\u001b[1;31mNameError\u001b[0m: name 'guns_dataframe' is not defined"
     ]
    }
   ],
   "source": [
    "guns_dataframe"
   ]
  },
  {
   "cell_type": "code",
   "execution_count": 5,
   "id": "homeless-phone",
   "metadata": {},
   "outputs": [],
   "source": [
    "guns = pd.read_csv('C:/Users/felip/OneDrive/Documents/Master en Data Analisis/Project Data/Gun Deaths in the US_ 2012-2014 _ Kaggle_files/guns.csv', index_col=0)"
   ]
  },
  {
   "cell_type": "code",
   "execution_count": 6,
   "id": "american-census",
   "metadata": {},
   "outputs": [
    {
     "data": {
      "text/plain": [
       "(100798, 10)"
      ]
     },
     "execution_count": 6,
     "metadata": {},
     "output_type": "execute_result"
    }
   ],
   "source": [
    "guns.shape"
   ]
  },
  {
   "cell_type": "code",
   "execution_count": 6,
   "id": "engaging-polish",
   "metadata": {},
   "outputs": [
    {
     "data": {
      "text/html": [
       "<div>\n",
       "<style scoped>\n",
       "    .dataframe tbody tr th:only-of-type {\n",
       "        vertical-align: middle;\n",
       "    }\n",
       "\n",
       "    .dataframe tbody tr th {\n",
       "        vertical-align: top;\n",
       "    }\n",
       "\n",
       "    .dataframe thead th {\n",
       "        text-align: right;\n",
       "    }\n",
       "</style>\n",
       "<table border=\"1\" class=\"dataframe\">\n",
       "  <thead>\n",
       "    <tr style=\"text-align: right;\">\n",
       "      <th></th>\n",
       "      <th>year</th>\n",
       "      <th>month</th>\n",
       "      <th>intent</th>\n",
       "      <th>police</th>\n",
       "      <th>sex</th>\n",
       "      <th>age</th>\n",
       "      <th>race</th>\n",
       "      <th>hispanic</th>\n",
       "      <th>place</th>\n",
       "      <th>education</th>\n",
       "    </tr>\n",
       "  </thead>\n",
       "  <tbody>\n",
       "    <tr>\n",
       "      <th>1</th>\n",
       "      <td>2012</td>\n",
       "      <td>1</td>\n",
       "      <td>Suicide</td>\n",
       "      <td>0</td>\n",
       "      <td>M</td>\n",
       "      <td>34.0</td>\n",
       "      <td>Asian/Pacific Islander</td>\n",
       "      <td>100</td>\n",
       "      <td>Home</td>\n",
       "      <td>4.0</td>\n",
       "    </tr>\n",
       "    <tr>\n",
       "      <th>2</th>\n",
       "      <td>2012</td>\n",
       "      <td>1</td>\n",
       "      <td>Suicide</td>\n",
       "      <td>0</td>\n",
       "      <td>F</td>\n",
       "      <td>21.0</td>\n",
       "      <td>White</td>\n",
       "      <td>100</td>\n",
       "      <td>Street</td>\n",
       "      <td>3.0</td>\n",
       "    </tr>\n",
       "    <tr>\n",
       "      <th>3</th>\n",
       "      <td>2012</td>\n",
       "      <td>1</td>\n",
       "      <td>Suicide</td>\n",
       "      <td>0</td>\n",
       "      <td>M</td>\n",
       "      <td>60.0</td>\n",
       "      <td>White</td>\n",
       "      <td>100</td>\n",
       "      <td>Other specified</td>\n",
       "      <td>4.0</td>\n",
       "    </tr>\n",
       "    <tr>\n",
       "      <th>4</th>\n",
       "      <td>2012</td>\n",
       "      <td>2</td>\n",
       "      <td>Suicide</td>\n",
       "      <td>0</td>\n",
       "      <td>M</td>\n",
       "      <td>64.0</td>\n",
       "      <td>White</td>\n",
       "      <td>100</td>\n",
       "      <td>Home</td>\n",
       "      <td>4.0</td>\n",
       "    </tr>\n",
       "    <tr>\n",
       "      <th>5</th>\n",
       "      <td>2012</td>\n",
       "      <td>2</td>\n",
       "      <td>Suicide</td>\n",
       "      <td>0</td>\n",
       "      <td>M</td>\n",
       "      <td>31.0</td>\n",
       "      <td>White</td>\n",
       "      <td>100</td>\n",
       "      <td>Other specified</td>\n",
       "      <td>2.0</td>\n",
       "    </tr>\n",
       "  </tbody>\n",
       "</table>\n",
       "</div>"
      ],
      "text/plain": [
       "   year  month   intent  police sex   age                    race  hispanic  \\\n",
       "1  2012      1  Suicide       0   M  34.0  Asian/Pacific Islander       100   \n",
       "2  2012      1  Suicide       0   F  21.0                   White       100   \n",
       "3  2012      1  Suicide       0   M  60.0                   White       100   \n",
       "4  2012      2  Suicide       0   M  64.0                   White       100   \n",
       "5  2012      2  Suicide       0   M  31.0                   White       100   \n",
       "\n",
       "             place  education  \n",
       "1             Home        4.0  \n",
       "2           Street        3.0  \n",
       "3  Other specified        4.0  \n",
       "4             Home        4.0  \n",
       "5  Other specified        2.0  "
      ]
     },
     "execution_count": 6,
     "metadata": {},
     "output_type": "execute_result"
    }
   ],
   "source": [
    "guns.head()"
   ]
  },
  {
   "cell_type": "code",
   "execution_count": 10,
   "id": "wound-impression",
   "metadata": {},
   "outputs": [
    {
     "data": {
      "text/html": [
       "<div>\n",
       "<style scoped>\n",
       "    .dataframe tbody tr th:only-of-type {\n",
       "        vertical-align: middle;\n",
       "    }\n",
       "\n",
       "    .dataframe tbody tr th {\n",
       "        vertical-align: top;\n",
       "    }\n",
       "\n",
       "    .dataframe thead th {\n",
       "        text-align: right;\n",
       "    }\n",
       "</style>\n",
       "<table border=\"1\" class=\"dataframe\">\n",
       "  <thead>\n",
       "    <tr style=\"text-align: right;\">\n",
       "      <th></th>\n",
       "      <th>Unnamed: 0</th>\n",
       "      <th>year</th>\n",
       "      <th>month</th>\n",
       "      <th>intent</th>\n",
       "      <th>police</th>\n",
       "      <th>sex</th>\n",
       "      <th>age</th>\n",
       "      <th>race</th>\n",
       "      <th>hispanic</th>\n",
       "      <th>place</th>\n",
       "      <th>education</th>\n",
       "    </tr>\n",
       "  </thead>\n",
       "  <tbody>\n",
       "    <tr>\n",
       "      <th>100793</th>\n",
       "      <td>100794</td>\n",
       "      <td>2014</td>\n",
       "      <td>12</td>\n",
       "      <td>Homicide</td>\n",
       "      <td>0</td>\n",
       "      <td>M</td>\n",
       "      <td>36.0</td>\n",
       "      <td>Black</td>\n",
       "      <td>100</td>\n",
       "      <td>Home</td>\n",
       "      <td>2.0</td>\n",
       "    </tr>\n",
       "    <tr>\n",
       "      <th>100794</th>\n",
       "      <td>100795</td>\n",
       "      <td>2014</td>\n",
       "      <td>12</td>\n",
       "      <td>Homicide</td>\n",
       "      <td>0</td>\n",
       "      <td>M</td>\n",
       "      <td>19.0</td>\n",
       "      <td>Black</td>\n",
       "      <td>100</td>\n",
       "      <td>Street</td>\n",
       "      <td>2.0</td>\n",
       "    </tr>\n",
       "    <tr>\n",
       "      <th>100795</th>\n",
       "      <td>100796</td>\n",
       "      <td>2014</td>\n",
       "      <td>12</td>\n",
       "      <td>Homicide</td>\n",
       "      <td>0</td>\n",
       "      <td>M</td>\n",
       "      <td>20.0</td>\n",
       "      <td>Black</td>\n",
       "      <td>100</td>\n",
       "      <td>Street</td>\n",
       "      <td>2.0</td>\n",
       "    </tr>\n",
       "    <tr>\n",
       "      <th>100796</th>\n",
       "      <td>100797</td>\n",
       "      <td>2014</td>\n",
       "      <td>12</td>\n",
       "      <td>Homicide</td>\n",
       "      <td>0</td>\n",
       "      <td>M</td>\n",
       "      <td>22.0</td>\n",
       "      <td>Hispanic</td>\n",
       "      <td>260</td>\n",
       "      <td>Street</td>\n",
       "      <td>1.0</td>\n",
       "    </tr>\n",
       "    <tr>\n",
       "      <th>100797</th>\n",
       "      <td>100798</td>\n",
       "      <td>2014</td>\n",
       "      <td>10</td>\n",
       "      <td>Homicide</td>\n",
       "      <td>0</td>\n",
       "      <td>M</td>\n",
       "      <td>43.0</td>\n",
       "      <td>Black</td>\n",
       "      <td>100</td>\n",
       "      <td>Other unspecified</td>\n",
       "      <td>2.0</td>\n",
       "    </tr>\n",
       "  </tbody>\n",
       "</table>\n",
       "</div>"
      ],
      "text/plain": [
       "        Unnamed: 0  year  month    intent  police sex   age      race  \\\n",
       "100793      100794  2014     12  Homicide       0   M  36.0     Black   \n",
       "100794      100795  2014     12  Homicide       0   M  19.0     Black   \n",
       "100795      100796  2014     12  Homicide       0   M  20.0     Black   \n",
       "100796      100797  2014     12  Homicide       0   M  22.0  Hispanic   \n",
       "100797      100798  2014     10  Homicide       0   M  43.0     Black   \n",
       "\n",
       "        hispanic              place  education  \n",
       "100793       100               Home        2.0  \n",
       "100794       100             Street        2.0  \n",
       "100795       100             Street        2.0  \n",
       "100796       260             Street        1.0  \n",
       "100797       100  Other unspecified        2.0  "
      ]
     },
     "execution_count": 10,
     "metadata": {},
     "output_type": "execute_result"
    }
   ],
   "source": [
    "guns.tail()"
   ]
  },
  {
   "cell_type": "code",
   "execution_count": 11,
   "id": "balanced-christian",
   "metadata": {},
   "outputs": [
    {
     "data": {
      "text/html": [
       "<div>\n",
       "<style scoped>\n",
       "    .dataframe tbody tr th:only-of-type {\n",
       "        vertical-align: middle;\n",
       "    }\n",
       "\n",
       "    .dataframe tbody tr th {\n",
       "        vertical-align: top;\n",
       "    }\n",
       "\n",
       "    .dataframe thead th {\n",
       "        text-align: right;\n",
       "    }\n",
       "</style>\n",
       "<table border=\"1\" class=\"dataframe\">\n",
       "  <thead>\n",
       "    <tr style=\"text-align: right;\">\n",
       "      <th></th>\n",
       "      <th>count</th>\n",
       "      <th>mean</th>\n",
       "      <th>std</th>\n",
       "      <th>min</th>\n",
       "      <th>25%</th>\n",
       "      <th>50%</th>\n",
       "      <th>75%</th>\n",
       "      <th>max</th>\n",
       "    </tr>\n",
       "  </thead>\n",
       "  <tbody>\n",
       "    <tr>\n",
       "      <th>Unnamed: 0</th>\n",
       "      <td>100798.0</td>\n",
       "      <td>50399.500000</td>\n",
       "      <td>29098.020554</td>\n",
       "      <td>1.0</td>\n",
       "      <td>25200.25</td>\n",
       "      <td>50399.5</td>\n",
       "      <td>75598.75</td>\n",
       "      <td>100798.0</td>\n",
       "    </tr>\n",
       "    <tr>\n",
       "      <th>year</th>\n",
       "      <td>100798.0</td>\n",
       "      <td>2013.000357</td>\n",
       "      <td>0.816278</td>\n",
       "      <td>2012.0</td>\n",
       "      <td>2012.00</td>\n",
       "      <td>2013.0</td>\n",
       "      <td>2014.00</td>\n",
       "      <td>2014.0</td>\n",
       "    </tr>\n",
       "    <tr>\n",
       "      <th>month</th>\n",
       "      <td>100798.0</td>\n",
       "      <td>6.567601</td>\n",
       "      <td>3.405609</td>\n",
       "      <td>1.0</td>\n",
       "      <td>4.00</td>\n",
       "      <td>7.0</td>\n",
       "      <td>9.00</td>\n",
       "      <td>12.0</td>\n",
       "    </tr>\n",
       "    <tr>\n",
       "      <th>police</th>\n",
       "      <td>100798.0</td>\n",
       "      <td>0.013909</td>\n",
       "      <td>0.117114</td>\n",
       "      <td>0.0</td>\n",
       "      <td>0.00</td>\n",
       "      <td>0.0</td>\n",
       "      <td>0.00</td>\n",
       "      <td>1.0</td>\n",
       "    </tr>\n",
       "    <tr>\n",
       "      <th>age</th>\n",
       "      <td>100780.0</td>\n",
       "      <td>43.857601</td>\n",
       "      <td>19.496181</td>\n",
       "      <td>0.0</td>\n",
       "      <td>27.00</td>\n",
       "      <td>42.0</td>\n",
       "      <td>58.00</td>\n",
       "      <td>107.0</td>\n",
       "    </tr>\n",
       "    <tr>\n",
       "      <th>hispanic</th>\n",
       "      <td>100798.0</td>\n",
       "      <td>114.179607</td>\n",
       "      <td>61.595734</td>\n",
       "      <td>100.0</td>\n",
       "      <td>100.00</td>\n",
       "      <td>100.0</td>\n",
       "      <td>100.00</td>\n",
       "      <td>998.0</td>\n",
       "    </tr>\n",
       "    <tr>\n",
       "      <th>education</th>\n",
       "      <td>100745.0</td>\n",
       "      <td>2.296352</td>\n",
       "      <td>0.990105</td>\n",
       "      <td>1.0</td>\n",
       "      <td>2.00</td>\n",
       "      <td>2.0</td>\n",
       "      <td>3.00</td>\n",
       "      <td>5.0</td>\n",
       "    </tr>\n",
       "  </tbody>\n",
       "</table>\n",
       "</div>"
      ],
      "text/plain": [
       "               count          mean           std     min       25%      50%  \\\n",
       "Unnamed: 0  100798.0  50399.500000  29098.020554     1.0  25200.25  50399.5   \n",
       "year        100798.0   2013.000357      0.816278  2012.0   2012.00   2013.0   \n",
       "month       100798.0      6.567601      3.405609     1.0      4.00      7.0   \n",
       "police      100798.0      0.013909      0.117114     0.0      0.00      0.0   \n",
       "age         100780.0     43.857601     19.496181     0.0     27.00     42.0   \n",
       "hispanic    100798.0    114.179607     61.595734   100.0    100.00    100.0   \n",
       "education   100745.0      2.296352      0.990105     1.0      2.00      2.0   \n",
       "\n",
       "                 75%       max  \n",
       "Unnamed: 0  75598.75  100798.0  \n",
       "year         2014.00    2014.0  \n",
       "month           9.00      12.0  \n",
       "police          0.00       1.0  \n",
       "age            58.00     107.0  \n",
       "hispanic      100.00     998.0  \n",
       "education       3.00       5.0  "
      ]
     },
     "execution_count": 11,
     "metadata": {},
     "output_type": "execute_result"
    }
   ],
   "source": [
    "guns.describe().transpose()"
   ]
  },
  {
   "cell_type": "code",
   "execution_count": 12,
   "id": "intimate-dealer",
   "metadata": {},
   "outputs": [
    {
     "data": {
      "text/plain": [
       "Unnamed: 0       0\n",
       "year             0\n",
       "month            0\n",
       "intent           1\n",
       "police           0\n",
       "sex              0\n",
       "age             18\n",
       "race             0\n",
       "hispanic         0\n",
       "place         1384\n",
       "education       53\n",
       "dtype: int64"
      ]
     },
     "execution_count": 12,
     "metadata": {},
     "output_type": "execute_result"
    }
   ],
   "source": [
    "guns.isna().sum()"
   ]
  },
  {
   "cell_type": "code",
   "execution_count": 13,
   "id": "expired-cornwall",
   "metadata": {},
   "outputs": [
    {
     "data": {
      "image/png": "[encoded data removed]",
      "text/plain": [
       "<Figure size 432x288 with 2 Axes>"
      ]
     },
     "metadata": {
      "needs_background": "light"
     },
     "output_type": "display_data"
    }
   ],
   "source": [
    "colourmap = sns.cubehelix_palette(light=1, as_cmap=True, reverse=True)\n",
    "_ = sns.heatmap(guns.isnull(), cmap=colourmap)"
   ]
  },
  {
   "cell_type": "code",
   "execution_count": 14,
   "id": "induced-second",
   "metadata": {},
   "outputs": [
    {
     "data": {
      "text/plain": [
       "Unnamed: 0      int64\n",
       "year            int64\n",
       "month           int64\n",
       "intent         object\n",
       "police          int64\n",
       "sex            object\n",
       "age           float64\n",
       "race           object\n",
       "hispanic        int64\n",
       "place          object\n",
       "education     float64\n",
       "dtype: object"
      ]
     },
     "execution_count": 14,
     "metadata": {},
     "output_type": "execute_result"
    }
   ],
   "source": [
    "guns.dtypes"
   ]
  },
  {
   "cell_type": "code",
   "execution_count": 16,
   "id": "confirmed-adjustment",
   "metadata": {},
   "outputs": [
    {
     "data": {
      "text/plain": [
       "1               Home\n",
       "2             Street\n",
       "3    Other specified\n",
       "Name: place, dtype: object"
      ]
     },
     "execution_count": 16,
     "metadata": {},
     "output_type": "execute_result"
    }
   ],
   "source": [
    "guns['place'].head(3)"
   ]
  },
  {
   "cell_type": "code",
   "execution_count": 21,
   "id": "numeric-wright",
   "metadata": {},
   "outputs": [],
   "source": [
    "guns['place'].fillna('Other specified', inplace=True)"
   ]
  },
  {
   "cell_type": "code",
   "execution_count": 25,
   "id": "found-restriction",
   "metadata": {},
   "outputs": [],
   "source": [
    "guns['age'].fillna((guns['age'].mean()), inplace=True)"
   ]
  },
  {
   "cell_type": "code",
   "execution_count": 38,
   "id": "macro-distributor",
   "metadata": {},
   "outputs": [
    {
     "data": {
      "text/plain": [
       "Suicide         63175\n",
       "Homicide        35176\n",
       "Accidental       1639\n",
       "Undetermined      807\n",
       "Name: intent, dtype: int64"
      ]
     },
     "execution_count": 38,
     "metadata": {},
     "output_type": "execute_result"
    }
   ],
   "source": [
    "guns['intent'].value_counts().head()"
   ]
  },
  {
   "cell_type": "code",
   "execution_count": 39,
   "id": "infrared-commitment",
   "metadata": {},
   "outputs": [],
   "source": [
    "guns['intent'].fillna('Undetermined', inplace=True)"
   ]
  },
  {
   "cell_type": "code",
   "execution_count": 43,
   "id": "lonely-driving",
   "metadata": {},
   "outputs": [
    {
     "data": {
      "text/plain": [
       "2.0    42927\n",
       "1.0    21823\n",
       "3.0    21680\n",
       "4.0    12946\n",
       "5.0     1369\n",
       "Name: education, dtype: int64"
      ]
     },
     "execution_count": 43,
     "metadata": {},
     "output_type": "execute_result"
    }
   ],
   "source": [
    "guns['education'].value_counts().head()\n",
    "#1: Less than High School\n",
    "#2: Graduated from High School or equivalent\n",
    "#3: Some College\n",
    "#4: At least graduated from College\n",
    "#5: Not available"
   ]
  },
  {
   "cell_type": "code",
   "execution_count": 47,
   "id": "expressed-accuracy",
   "metadata": {},
   "outputs": [],
   "source": [
    "guns['education'].fillna('Not available', inplace=True)"
   ]
  },
  {
   "cell_type": "code",
   "execution_count": 48,
   "id": "grave-windows",
   "metadata": {},
   "outputs": [
    {
     "data": {
      "text/plain": [
       "2.0    42927\n",
       "1.0    21823\n",
       "3.0    21680\n",
       "4.0    12946\n",
       "5.0     1369\n",
       "Name: education, dtype: int64"
      ]
     },
     "execution_count": 48,
     "metadata": {},
     "output_type": "execute_result"
    }
   ],
   "source": [
    "guns['education'].value_counts().head()"
   ]
  },
  {
   "cell_type": "code",
   "execution_count": 45,
   "id": "complete-corruption",
   "metadata": {},
   "outputs": [
    {
     "data": {
      "text/plain": [
       "year         0\n",
       "month        0\n",
       "intent       0\n",
       "police       0\n",
       "sex          0\n",
       "age          0\n",
       "race         0\n",
       "hispanic     0\n",
       "place        0\n",
       "education    0\n",
       "dtype: int64"
      ]
     },
     "execution_count": 45,
     "metadata": {},
     "output_type": "execute_result"
    }
   ],
   "source": [
    "guns.isna().sum()"
   ]
  },
  {
   "cell_type": "code",
   "execution_count": 49,
   "id": "pressing-professional",
   "metadata": {},
   "outputs": [
    {
     "data": {
      "image/png": "[encoded data removed]",
      "text/plain": [
       "<Figure size 432x288 with 2 Axes>"
      ]
     },
     "metadata": {
      "needs_background": "light"
     },
     "output_type": "display_data"
    }
   ],
   "source": [
    "colourmap = sns.cubehelix_palette(light=1, as_cmap=True, reverse=True)\n",
    "_ = sns.heatmap(guns.isnull(), cmap=colourmap)"
   ]
  },
  {
   "cell_type": "code",
   "execution_count": 20,
   "id": "later-market",
   "metadata": {},
   "outputs": [
    {
     "data": {
      "text/plain": [
       "22.0    2712\n",
       "21.0    2504\n",
       "23.0    2472\n",
       "24.0    2437\n",
       "26.0    2231\n",
       "25.0    2230\n",
       "20.0    2219\n",
       "27.0    2070\n",
       "19.0    2065\n",
       "28.0    1986\n",
       "29.0    1955\n",
       "30.0    1869\n",
       "31.0    1833\n",
       "32.0    1824\n",
       "51.0    1755\n",
       "18.0    1753\n",
       "52.0    1715\n",
       "53.0    1708\n",
       "33.0    1700\n",
       "34.0    1699\n",
       "54.0    1684\n",
       "50.0    1674\n",
       "49.0    1669\n",
       "35.0    1631\n",
       "56.0    1625\n",
       "Name: age, dtype: int64"
      ]
     },
     "execution_count": 20,
     "metadata": {},
     "output_type": "execute_result"
    }
   ],
   "source": [
    "guns['age'].value_counts().head(25)"
   ]
  },
  {
   "cell_type": "code",
   "execution_count": 22,
   "id": "packed-announcement",
   "metadata": {},
   "outputs": [
    {
     "data": {
      "text/plain": [
       "M    86349\n",
       "F    14449\n",
       "Name: sex, dtype: int64"
      ]
     },
     "execution_count": 22,
     "metadata": {},
     "output_type": "execute_result"
    }
   ],
   "source": [
    "guns['sex'].value_counts().head(25)"
   ]
  },
  {
   "cell_type": "code",
   "execution_count": 23,
   "id": "cardiovascular-evolution",
   "metadata": {},
   "outputs": [
    {
     "data": {
      "image/png": "[encoded data removed]",
      "text/plain": [
       "<Figure size 432x288 with 1 Axes>"
      ]
     },
     "metadata": {},
     "output_type": "display_data"
    }
   ],
   "source": [
    "Yearintent = guns.groupby([guns.year, guns.intent]).year.count().unstack('intent')\n",
    "plot = Yearintent.plot(kind=\"bar\", stacked=True)\n",
    "plot.set_xlabel(\"year\")\n",
    "plot.set_ylabel(\"Count\")\n",
    "plt.show()"
   ]
  },
  {
   "cell_type": "code",
   "execution_count": 51,
   "id": "oriented-trigger",
   "metadata": {},
   "outputs": [
    {
     "data": {
      "image/png": "[encoded data removed]",
      "text/plain": [
       "<Figure size 432x288 with 1 Axes>"
      ]
     },
     "metadata": {
      "needs_background": "light"
     },
     "output_type": "display_data"
    }
   ],
   "source": [
    "sns.barplot(x='age', y='intent', hue='year', data=guns);\n"
   ]
  },
  {
   "cell_type": "code",
   "execution_count": 52,
   "id": "friendly-blind",
   "metadata": {},
   "outputs": [
    {
     "data": {
      "image/png": "[encoded data removed]",
      "text/plain": [
       "<Figure size 432x288 with 1 Axes>"
      ]
     },
     "metadata": {
      "needs_background": "light"
     },
     "output_type": "display_data"
    }
   ],
   "source": [
    "guns['race'].value_counts().plot(kind = \"bar\", title = \"Race: victim's race\");"
   ]
  },
  {
   "cell_type": "code",
   "execution_count": 7,
   "id": "heavy-potential",
   "metadata": {},
   "outputs": [
    {
     "data": {
      "image/png": "[encoded data removed]",
      "text/plain": [
       "<Figure size 432x288 with 1 Axes>"
      ]
     },
     "metadata": {
      "needs_background": "light"
     },
     "output_type": "display_data"
    }
   ],
   "source": [
    "intentAndRace = guns.groupby([guns.intent, guns.race]).intent.count().unstack('race')\n",
    "plot = intentAndRace.plot(kind=\"bar\", stacked=True)\n",
    "plot.set_xlabel(\"Intent\")\n",
    "plot.set_ylabel(\"Count\")\n",
    "plt.show()"
   ]
  },
  {
   "cell_type": "code",
   "execution_count": 9,
   "id": "blank-inspiration",
   "metadata": {},
   "outputs": [
    {
     "data": {
      "image/png": "[encoded data removed]",
      "text/plain": [
       "<Figure size 432x288 with 1 Axes>"
      ]
     },
     "metadata": {
      "needs_background": "light"
     },
     "output_type": "display_data"
    }
   ],
   "source": [
    "intentAndplace = guns.groupby([guns.intent, guns.place]).intent.count().unstack('place')\n",
    "plot = intentAndplace.plot(kind=\"bar\", stacked=True)\n",
    "plot.set_xlabel(\"Intent\")\n",
    "plot.set_ylabel(\"Count\")\n",
    "plt.show()"
   ]
  },
  {
   "cell_type": "code",
   "execution_count": null,
   "id": "reverse-eleven",
   "metadata": {},
   "outputs": [],
   "source": []
  }
 ],
 "metadata": {
  "kernelspec": {
   "display_name": "Python 3",
   "language": "python",
   "name": "python3"
  },
  "language_info": {
   "codemirror_mode": {
    "name": "ipython",
    "version": 3
   },
   "file_extension": ".py",
   "mimetype": "text/x-python",
   "name": "python",
   "nbconvert_exporter": "python",
   "pygments_lexer": "ipython3",
   "version": "3.7.10"
  }
 },
 "nbformat": 4,
 "nbformat_minor": 5
}
